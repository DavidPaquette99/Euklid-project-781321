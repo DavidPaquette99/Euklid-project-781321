{
  "cells": [
    {
      "cell_type": "markdown",
      "metadata": {
        "id": "hyUA5SiFYf68"
      },
      "source": [
        "##preprocessing"
      ]
    },
    {
      "cell_type": "code",
      "execution_count": null,
      "metadata": {
        "colab": {
          "base_uri": "https://localhost:8080/"
        },
        "id": "CboTYILl2hMT",
        "outputId": "6a1814ed-64ba-423e-b742-6cabb0a7f76d"
      },
      "outputs": [
        {
          "output_type": "stream",
          "name": "stdout",
          "text": [
            "Collecting pandas_ta\n",
            "  Downloading pandas_ta-0.3.14b.tar.gz (115 kB)\n",
            "\u001b[2K     \u001b[90m━━━━━━━━━━━━━━━━━━━━━━━━━━━━━━━━━━━━━━━━\u001b[0m \u001b[32m115.1/115.1 kB\u001b[0m \u001b[31m1.6 MB/s\u001b[0m eta \u001b[36m0:00:00\u001b[0m\n",
            "\u001b[?25h  Preparing metadata (setup.py) ... \u001b[?25l\u001b[?25hdone\n",
            "Requirement already satisfied: pandas in /usr/local/lib/python3.10/dist-packages (from pandas_ta) (2.0.3)\n",
            "Requirement already satisfied: python-dateutil>=2.8.2 in /usr/local/lib/python3.10/dist-packages (from pandas->pandas_ta) (2.8.2)\n",
            "Requirement already satisfied: pytz>=2020.1 in /usr/local/lib/python3.10/dist-packages (from pandas->pandas_ta) (2023.4)\n",
            "Requirement already satisfied: tzdata>=2022.1 in /usr/local/lib/python3.10/dist-packages (from pandas->pandas_ta) (2024.1)\n",
            "Requirement already satisfied: numpy>=1.21.0 in /usr/local/lib/python3.10/dist-packages (from pandas->pandas_ta) (1.25.2)\n",
            "Requirement already satisfied: six>=1.5 in /usr/local/lib/python3.10/dist-packages (from python-dateutil>=2.8.2->pandas->pandas_ta) (1.16.0)\n",
            "Building wheels for collected packages: pandas_ta\n",
            "  Building wheel for pandas_ta (setup.py) ... \u001b[?25l\u001b[?25hdone\n",
            "  Created wheel for pandas_ta: filename=pandas_ta-0.3.14b0-py3-none-any.whl size=218907 sha256=06c0d02c916ad86a496370ee86618e4e51166bc045c8ae9034a9c5a9ce525172\n",
            "  Stored in directory: /root/.cache/pip/wheels/69/00/ac/f7fa862c34b0e2ef320175100c233377b4c558944f12474cf0\n",
            "Successfully built pandas_ta\n",
            "Installing collected packages: pandas_ta\n",
            "Successfully installed pandas_ta-0.3.14b0\n"
          ]
        }
      ],
      "source": [
        "pip install pandas_ta"
      ]
    },
    {
      "cell_type": "code",
      "execution_count": null,
      "metadata": {
        "id": "e2lzSzMr2JTU"
      },
      "outputs": [],
      "source": [
        "#import libraries\n",
        "import numpy as np\n",
        "import pandas as pd\n",
        "import matplotlib.pyplot as plt\n",
        "import seaborn as sns\n",
        "import matplotlib.dates as mdates\n",
        "import missingno as msno\n",
        "import keras\n",
        "import pandas_ta as ta"
      ]
    },
    {
      "cell_type": "code",
      "execution_count": null,
      "metadata": {
        "id": "DuNGKwZb2nus"
      },
      "outputs": [],
      "source": [
        "ibm_df=pd.read_csv('/content/IBM_weekly.csv', sep=',', header=0)\n",
        "ibm_df['Date'] = pd.to_datetime(ibm_df.Date)\n",
        "\n",
        "ibm_df_subset=ibm_df[ibm_df['Close']<ibm_df['Low']]\n",
        "\n",
        "ibm_df_subset.loc[ibm_df_subset['Date']<=pd.to_datetime('2021-11-04'),['Open', 'High', 'Low']]=ibm_df_subset.loc[ibm_df_subset['Date']<=pd.to_datetime('2021-11-04'),['Open', 'High', 'Low']]/1.046\n",
        "\n",
        "# adjust for the 1999-05-27 split, plus the Open and High at 1999-05-30, which are an anomaly in the dataset\n",
        "ibm_df_subset.loc[ibm_df_subset['Date']<=pd.to_datetime('1999-05-27'),['Open', 'High', 'Low']]=ibm_df_subset.loc[ibm_df_subset['Date']<=pd.to_datetime('1999-05-27'),['Open', 'High', 'Low']]/2\n",
        "ibm_df_subset.loc[ibm_df_subset['Date']==pd.to_datetime('1999-05-30'),['Open', 'High']]=ibm_df_subset.loc[ibm_df_subset['Date']==pd.to_datetime('1999-05-30'),['Open', 'High']]/2\n",
        "\n",
        "# adjust for the 1997-05-28 split, plus the Open and High at 1997-06-01, which are an anomaly in the dataset\n",
        "ibm_df_subset.loc[ibm_df_subset['Date']<=pd.to_datetime('1997-05-28'),['Open', 'High', 'Low']]=ibm_df_subset.loc[ibm_df_subset['Date']<=pd.to_datetime('1997-05-28'),['Open', 'High', 'Low']]/2\n",
        "ibm_df_subset.loc[ibm_df_subset['Date']==pd.to_datetime('1997-06-01'),['Open', 'High']]=ibm_df_subset.loc[ibm_df_subset['Date']==pd.to_datetime('1997-06-01'),['Open', 'High']]/2\n",
        "\n",
        "from sklearn.preprocessing import StandardScaler, MinMaxScaler\n",
        "\n",
        "#scaler\n",
        "scaler = StandardScaler()\n",
        "scaler2 = MinMaxScaler()\n",
        "\n",
        "#standardization of the prices\n",
        "ibm_df[['Close', 'Open', 'Low', 'High']] = scaler.fit_transform(ibm_df[['Close', 'Open', 'Low', 'High']])\n",
        "ibm_df.loc[ibm_df['Volume']>0, ['Volume']] = scaler2.fit_transform(ibm_df.loc[ibm_df['Volume']>0, ['Volume']])"
      ]
    },
    {
      "cell_type": "code",
      "execution_count": null,
      "metadata": {
        "colab": {
          "base_uri": "https://localhost:8080/"
        },
        "id": "d1VJtOZaJ088",
        "outputId": "9d4311dd-ec16-4a85-bd3f-ec6ea541ec78"
      },
      "outputs": [
        {
          "output_type": "stream",
          "name": "stdout",
          "text": [
            "Hurst Exponent for Close: -0.012834026646051653\n"
          ]
        },
        {
          "output_type": "stream",
          "name": "stderr",
          "text": [
            "/usr/local/lib/python3.10/dist-packages/pandas/core/arraylike.py:396: RuntimeWarning: invalid value encountered in log\n",
            "  result = getattr(ufunc, method)(*inputs, **kwargs)\n"
          ]
        },
        {
          "output_type": "stream",
          "name": "stdout",
          "text": [
            "Hurst Exponent for Log return: 0.41846554526718005\n",
            "Hurst Exponent for return: 0.4806478175681395\n"
          ]
        }
      ],
      "source": [
        "#hurst coefficient of the time series\n",
        "def hurst(ts):\n",
        "\n",
        "    n = len(ts)\n",
        "    max_window = int(n / 2)\n",
        "    window_sizes = range(10, max_window)\n",
        "    R_S = np.zeros(len(window_sizes))\n",
        "\n",
        "    for i, window_size in enumerate(window_sizes):\n",
        "        window_ranges = np.arange(0, n, window_size)\n",
        "        R, S = 0, 0\n",
        "        for j in window_ranges:\n",
        "            if j + window_size < n:\n",
        "                # Calculate the range and standard deviation\n",
        "                window = ts[j:j+window_size]\n",
        "                R += np.max(window) - np.min(window)\n",
        "                S += np.std(window)\n",
        "\n",
        "        # Calculate the rescaled range\n",
        "        R_S[i] = R / S\n",
        "\n",
        "    # Fit a linear line to log-log plot\n",
        "    fit = np.polyfit(np.log(window_sizes), np.log(R_S), 1)\n",
        "\n",
        "    # Hurst exponent is the slope of the line\n",
        "    hurst_exponent = fit[0]\n",
        "\n",
        "    return hurst_exponent\n",
        "\n",
        "\n",
        "ts = ibm_df['Close']\n",
        "print(\"Hurst Exponent for Close:\", hurst(ts))\n",
        "\n",
        "ibm_df['log return'] = np.log(ibm_df['Close'].shift(-1)/ibm_df['Close'])\n",
        "ts1 = ibm_df['log return']\n",
        "print(\"Hurst Exponent for Log return:\", hurst(ts1))\n",
        "\n",
        "ibm_df['return'] = ibm_df['Close'].shift(-1)/ibm_df['Close']\n",
        "ts2 = ibm_df['return']\n",
        "print(\"Hurst Exponent for return:\", hurst(ts2))\n"
      ]
    },
    {
      "cell_type": "markdown",
      "metadata": {
        "id": "dzRhqA3hKP_g"
      },
      "source": [
        "## PRIMA ARCHITETTURA"
      ]
    },
    {
      "cell_type": "code",
      "execution_count": null,
      "metadata": {
        "id": "Ftcrcspoyga8"
      },
      "outputs": [],
      "source": [
        "from keras.models import Sequential\n",
        "from keras.layers import LSTM, Dropout, Dense\n",
        "\n",
        "def LSTM_model(X_train, p_dropout=0.2):\n",
        "  model =Sequential()\n",
        "  model.add(\n",
        "      LSTM(units=50,\n",
        "           return_sequences=True,\n",
        "           input_shape =(X_train.shape[1],1))\n",
        "  )\n",
        "  model.add(Dropout(p_dropout))\n",
        "  model.add(LSTM(units=50,\n",
        "           return_sequences=True))\n",
        "  model.add(Dropout(p_dropout))\n",
        "\n",
        "  model.add(Dense(units=1))\n",
        "  return model"
      ]
    },
    {
      "cell_type": "code",
      "execution_count": null,
      "metadata": {
        "colab": {
          "base_uri": "https://localhost:8080/"
        },
        "id": "bq2LqhBOE4xA",
        "outputId": "df029097-0e32-46ec-84dc-fad52d0f5fcd"
      },
      "outputs": [
        {
          "data": {
            "text/plain": [
              "0   -1.845263\n",
              "1   -1.834125\n",
              "2   -1.829844\n",
              "3   -1.840550\n",
              "4   -1.838408\n",
              "5   -1.845691\n",
              "Name: Close, dtype: float64"
            ]
          },
          "execution_count": 27,
          "metadata": {},
          "output_type": "execute_result"
        }
      ],
      "source": [
        "ibm_df.loc[0:5,'Close'] #cambio indicizzazione su python"
      ]
    },
    {
      "cell_type": "code",
      "execution_count": null,
      "metadata": {
        "id": "jZDKAxiOAbcn"
      },
      "outputs": [],
      "source": [
        "splitlimit = int(len(ibm_df) * 0.8)\n",
        "ibm_df_train_set = ibm_df.loc[:splitlimit,:]\n",
        "ibm_df_test_set = ibm_df.loc[splitlimit:,:]\n",
        "\n",
        "X_train=[]\n",
        "y_train =[]\n",
        "df_days=ibm_df_train_set.shape[0]\n",
        "\n",
        "for x in range(5, df_days): #prendo intanto una finestra di 5 settimane\n",
        "  X_train.append(ibm_df.loc[x-5:x-1,'Close'])\n",
        "  y_train.append(ibm_df.loc[x,'Close'])\n",
        "\n",
        "X_train,y_train = np.array(X_train), np.array(y_train)\n",
        "X_train = np.reshape(X_train, (X_train.shape[0], X_train.shape[1],1))\n",
        "\n",
        "\n",
        "X_test=[]\n",
        "y_test =[]\n",
        "\n",
        "for x in range(df_days, ibm_df.shape[0]): #prendo intanto una finestra di 5 settimane\n",
        "  X_test.append(ibm_df.loc[x-5:x-1,'Close'])\n",
        "  y_test.append(ibm_df.loc[x,'Close'])\n",
        "\n",
        "X_test,y_test = np.array(X_test), np.array(y_test)\n",
        "X_test = np.reshape(X_test, (X_test.shape[0], X_test.shape[1],1))"
      ]
    },
    {
      "cell_type": "code",
      "execution_count": null,
      "metadata": {
        "colab": {
          "base_uri": "https://localhost:8080/",
          "height": 345
        },
        "id": "8ZMAooGKzUky",
        "outputId": "a4910ef0-e830-4799-d769-9e613122e134"
      },
      "outputs": [
        {
          "name": "stdout",
          "output_type": "stream",
          "text": [
            "Model: \"sequential\"\n",
            "_________________________________________________________________\n",
            " Layer (type)                Output Shape              Param #   \n",
            "=================================================================\n",
            " lstm (LSTM)                 (None, 5, 50)             10400     \n",
            "                                                                 \n",
            " dropout (Dropout)           (None, 5, 50)             0         \n",
            "                                                                 \n",
            " lstm_1 (LSTM)               (None, 5, 50)             20200     \n",
            "                                                                 \n",
            " dropout_1 (Dropout)         (None, 5, 50)             0         \n",
            "                                                                 \n",
            " dense (Dense)               (None, 5, 1)              51        \n",
            "                                                                 \n",
            "=================================================================\n",
            "Total params: 30651 (119.73 KB)\n",
            "Trainable params: 30651 (119.73 KB)\n",
            "Non-trainable params: 0 (0.00 Byte)\n",
            "_________________________________________________________________\n"
          ]
        },
        {
          "data": {
            "text/plain": [
              "None"
            ]
          },
          "metadata": {},
          "output_type": "display_data"
        }
      ],
      "source": [
        "#definition\n",
        "model=LSTM_model(X_train)\n",
        "model.build()\n",
        "display(model.summary())\n",
        "model.compile(optimizer='adam',\n",
        "              loss='mean_squared_error')"
      ]
    },
    {
      "cell_type": "code",
      "execution_count": null,
      "metadata": {
        "colab": {
          "base_uri": "https://localhost:8080/",
          "height": 1000
        },
        "id": "rfIrhHND0n6F",
        "outputId": "35f3b392-b6be-4882-9165-5992a429f5fa"
      },
      "outputs": [
        {
          "name": "stdout",
          "output_type": "stream",
          "text": [
            "Epoch 1/10\n",
            "42/42 [==============================] - 2s 36ms/step - loss: 0.9445 - val_loss: 1.3462\n",
            "Epoch 2/10\n",
            "42/42 [==============================] - 1s 24ms/step - loss: 0.9436 - val_loss: 1.3282\n",
            "Epoch 3/10\n",
            "42/42 [==============================] - 1s 18ms/step - loss: 0.9439 - val_loss: 1.3697\n",
            "Epoch 4/10\n",
            "42/42 [==============================] - 1s 18ms/step - loss: 0.9439 - val_loss: 1.3853\n",
            "Epoch 5/10\n",
            "42/42 [==============================] - 1s 23ms/step - loss: 0.9428 - val_loss: 1.3086\n",
            "Epoch 6/10\n",
            "42/42 [==============================] - 1s 20ms/step - loss: 0.9431 - val_loss: 1.3541\n",
            "Epoch 7/10\n",
            "42/42 [==============================] - 1s 24ms/step - loss: 0.9438 - val_loss: 1.3786\n",
            "Epoch 8/10\n",
            "42/42 [==============================] - 1s 12ms/step - loss: 0.9434 - val_loss: 1.3591\n",
            "Epoch 9/10\n",
            "42/42 [==============================] - 0s 9ms/step - loss: 0.9442 - val_loss: 1.3746\n",
            "Epoch 10/10\n",
            "42/42 [==============================] - 0s 10ms/step - loss: 0.9440 - val_loss: 1.3814\n",
            "10/10 [==============================] - 0s 3ms/step\n"
          ]
        },
        {
          "data": {
            "image/png": "[encoded data removed]",
            "text/plain": [
              "<Figure size 640x480 with 1 Axes>"
            ]
          },
          "metadata": {},
          "output_type": "display_data"
        },
        {
          "data": {
            "image/png": "[encoded data removed]",
            "text/plain": [
              "<Figure size 640x480 with 1 Axes>"
            ]
          },
          "metadata": {},
          "output_type": "display_data"
        },
        {
          "ename": "AttributeError",
          "evalue": "'History' object has no attribute 'forecast'",
          "output_type": "error",
          "traceback": [
            "\u001b[0;31m---------------------------------------------------------------------------\u001b[0m",
            "\u001b[0;31mAttributeError\u001b[0m                            Traceback (most recent call last)",
            "\u001b[0;32m<ipython-input-9-cd981b9220bc>\u001b[0m in \u001b[0;36m<cell line: 32>\u001b[0;34m()\u001b[0m\n\u001b[1;32m     30\u001b[0m \u001b[0;34m\u001b[0m\u001b[0m\n\u001b[1;32m     31\u001b[0m \u001b[0;31m#forecast\u001b[0m\u001b[0;34m\u001b[0m\u001b[0;34m\u001b[0m\u001b[0m\n\u001b[0;32m---> 32\u001b[0;31m \u001b[0mfc\u001b[0m \u001b[0;34m=\u001b[0m \u001b[0mhistory\u001b[0m\u001b[0;34m.\u001b[0m\u001b[0mforecast\u001b[0m\u001b[0;34m(\u001b[0m\u001b[0;36m314\u001b[0m\u001b[0;34m,\u001b[0m \u001b[0malpha\u001b[0m\u001b[0;34m=\u001b[0m\u001b[0;36m0.05\u001b[0m\u001b[0;34m)\u001b[0m\u001b[0;34m\u001b[0m\u001b[0;34m\u001b[0m\u001b[0m\n\u001b[0m\u001b[1;32m     33\u001b[0m \u001b[0mibm_test\u001b[0m\u001b[0;34m[\u001b[0m\u001b[0;34m'forecast'\u001b[0m\u001b[0;34m]\u001b[0m \u001b[0;34m=\u001b[0m \u001b[0mfc\u001b[0m\u001b[0;34m\u001b[0m\u001b[0;34m\u001b[0m\u001b[0m\n\u001b[1;32m     34\u001b[0m \u001b[0mplt\u001b[0m\u001b[0;34m.\u001b[0m\u001b[0mfigure\u001b[0m\u001b[0;34m(\u001b[0m\u001b[0mfigsize\u001b[0m\u001b[0;34m=\u001b[0m\u001b[0;34m(\u001b[0m\u001b[0;36m12\u001b[0m\u001b[0;34m,\u001b[0m\u001b[0;36m5\u001b[0m\u001b[0;34m)\u001b[0m\u001b[0;34m,\u001b[0m \u001b[0mdpi\u001b[0m\u001b[0;34m=\u001b[0m\u001b[0;36m100\u001b[0m\u001b[0;34m)\u001b[0m\u001b[0;34m\u001b[0m\u001b[0;34m\u001b[0m\u001b[0m\n",
            "\u001b[0;31mAttributeError\u001b[0m: 'History' object has no attribute 'forecast'"
          ]
        }
      ],
      "source": [
        "#training\n",
        "history = model.fit(X_train, y_train,epochs=10, batch_size=30,validation_data= (X_test,y_test))\n",
        "y_pred = model.predict(X_test)\n",
        "\n",
        "# Plot the predicted values\n",
        "plt.style.use('default')\n",
        "plt.plot(y_test, label='True Values',color='#2F4F4F')\n",
        "plt.plot(y_pred[:,0],  label='Predicted Values',color='#FF6600')\n",
        "plt.grid(True, linestyle='--', linewidth=0.5, color='gray')\n",
        "plt.title('True vs Predicted Values')\n",
        "plt.xlabel('Index')\n",
        "plt.ylabel('Close Price')\n",
        "plt.legend()\n",
        "plt.savefig('ibm LSTM.png')\n",
        "plt.show()\n",
        "\n",
        "# Extract the MSE values from the history object\n",
        "mse_values = history.history['loss']\n",
        "validation_values = history.history['val_loss']\n",
        "\n",
        "# Plot the trend of MSE with respect to epochs\n",
        "plt.plot(range(1, len(mse_values) + 1), mse_values, label='MSE',color='#008080')\n",
        "plt.plot(range(1, len(validation_values) + 1), validation_values, label='Validation Test',color='#800080')\n",
        "plt.title('Mean Squared Error (MSE) Trend')\n",
        "plt.xlabel('Epochs')\n",
        "plt.ylabel('MSE')\n",
        "plt.legend()\n",
        "plt.show()\n",
        "\n",
        "\n",
        "#forecast\n",
        "fc = results.forecast(314, alpha=0.05)\n",
        "ibm_test['forecast'] = fc\n",
        "plt.figure(figsize=(12,5), dpi=100)\n",
        "plt.plot(ibm_train['Log Close'], color='green',label='training')\n",
        "plt.plot(ibm_test['Log Close'], color='blue', label='Actual Log Close Price')\n",
        "plt.plot(ibm_test['forecast'], color='orange', label='Predicted Close Price')\n",
        "plt.title('IBM Close Price Prediction vs Actual')\n",
        "plt.xlabel('Date')\n",
        "plt.ylabel('Close Price')\n",
        "plt.legend(loc='upper left', fontsize=8)\n",
        "plt.show()"
      ]
    },
    {
      "cell_type": "markdown",
      "metadata": {
        "id": "KXMKgs15J0Zz"
      },
      "source": []
    },
    {
      "cell_type": "code",
      "execution_count": null,
      "metadata": {
        "colab": {
          "background_save": true
        },
        "id": "-yOs6t9ZKD-d",
        "outputId": "a7b00eae-ce7e-4796-9dbe-9c673d9b1ac6"
      },
      "outputs": [
        {
          "name": "stdout",
          "output_type": "stream",
          "text": [
            "Epoch 1/50\n",
            "42/42 [==============================] - 0s 11ms/step - loss: 0.9440 - val_loss: 1.3473\n",
            "Epoch 2/50\n",
            "42/42 [==============================] - 0s 10ms/step - loss: 0.9445 - val_loss: 1.3630\n",
            "Epoch 3/50\n",
            "42/42 [==============================] - 0s 11ms/step - loss: 0.9438 - val_loss: 1.3550\n",
            "Epoch 4/50\n",
            "42/42 [==============================] - 0s 10ms/step - loss: 0.9444 - val_loss: 1.3558\n",
            "Epoch 5/50\n",
            "42/42 [==============================] - 0s 10ms/step - loss: 0.9444 - val_loss: 1.3687\n",
            "Epoch 6/50\n",
            "42/42 [==============================] - 1s 15ms/step - loss: 0.9435 - val_loss: 1.3435\n",
            "Epoch 7/50\n",
            "42/42 [==============================] - 1s 19ms/step - loss: 0.9428 - val_loss: 1.3680\n",
            "Epoch 8/50\n",
            "42/42 [==============================] - 0s 11ms/step - loss: 0.9444 - val_loss: 1.3644\n",
            "Epoch 9/50\n",
            "42/42 [==============================] - 0s 10ms/step - loss: 0.9438 - val_loss: 1.3884\n",
            "Epoch 10/50\n",
            "42/42 [==============================] - 0s 10ms/step - loss: 0.9435 - val_loss: 1.3916\n",
            "Epoch 11/50\n",
            "42/42 [==============================] - 0s 11ms/step - loss: 0.9445 - val_loss: 1.4048\n",
            "Epoch 12/50\n",
            "42/42 [==============================] - 0s 11ms/step - loss: 0.9427 - val_loss: 1.3455\n",
            "Epoch 13/50\n",
            "42/42 [==============================] - 1s 13ms/step - loss: 0.9434 - val_loss: 1.3701\n",
            "Epoch 14/50\n",
            "42/42 [==============================] - 1s 14ms/step - loss: 0.9435 - val_loss: 1.3714\n",
            "Epoch 15/50\n",
            "42/42 [==============================] - 1s 15ms/step - loss: 0.9427 - val_loss: 1.3517\n",
            "Epoch 16/50\n",
            "42/42 [==============================] - 1s 15ms/step - loss: 0.9434 - val_loss: 1.3614\n",
            "Epoch 17/50\n",
            "42/42 [==============================] - 1s 16ms/step - loss: 0.9444 - val_loss: 1.3900\n",
            "Epoch 18/50\n",
            "42/42 [==============================] - 0s 11ms/step - loss: 0.9437 - val_loss: 1.3807\n",
            "Epoch 19/50\n",
            "42/42 [==============================] - 0s 10ms/step - loss: 0.9433 - val_loss: 1.3797\n",
            "Epoch 20/50\n",
            "42/42 [==============================] - 0s 10ms/step - loss: 0.9435 - val_loss: 1.3878\n",
            "Epoch 21/50\n",
            "42/42 [==============================] - 0s 11ms/step - loss: 0.9432 - val_loss: 1.3589\n",
            "Epoch 22/50\n",
            "42/42 [==============================] - 0s 10ms/step - loss: 0.9439 - val_loss: 1.3677\n",
            "Epoch 23/50\n",
            "42/42 [==============================] - 0s 11ms/step - loss: 0.9436 - val_loss: 1.3876\n",
            "Epoch 24/50\n",
            "42/42 [==============================] - 0s 11ms/step - loss: 0.9439 - val_loss: 1.4014\n",
            "Epoch 25/50\n",
            "42/42 [==============================] - 0s 11ms/step - loss: 0.9433 - val_loss: 1.3631\n",
            "Epoch 26/50\n",
            "42/42 [==============================] - 0s 10ms/step - loss: 0.9427 - val_loss: 1.3500\n",
            "Epoch 27/50\n",
            "42/42 [==============================] - 0s 12ms/step - loss: 0.9428 - val_loss: 1.3399\n",
            "Epoch 28/50\n",
            "42/42 [==============================] - 0s 11ms/step - loss: 0.9432 - val_loss: 1.3699\n",
            "Epoch 29/50\n",
            "42/42 [==============================] - 0s 11ms/step - loss: 0.9437 - val_loss: 1.3696\n",
            "Epoch 30/50\n",
            "42/42 [==============================] - 0s 10ms/step - loss: 0.9428 - val_loss: 1.3715\n",
            "Epoch 31/50\n",
            "42/42 [==============================] - 0s 11ms/step - loss: 0.9436 - val_loss: 1.4082\n",
            "Epoch 32/50\n",
            "42/42 [==============================] - 0s 11ms/step - loss: 0.9433 - val_loss: 1.3835\n",
            "Epoch 33/50\n",
            "42/42 [==============================] - 0s 11ms/step - loss: 0.9431 - val_loss: 1.3841\n",
            "Epoch 34/50\n",
            "42/42 [==============================] - 0s 11ms/step - loss: 0.9431 - val_loss: 1.3759\n",
            "Epoch 35/50\n",
            "42/42 [==============================] - 0s 11ms/step - loss: 0.9439 - val_loss: 1.3493\n",
            "Epoch 36/50\n",
            "42/42 [==============================] - 1s 14ms/step - loss: 0.9440 - val_loss: 1.3725\n",
            "Epoch 37/50\n",
            "42/42 [==============================] - 1s 18ms/step - loss: 0.9436 - val_loss: 1.3701\n",
            "Epoch 38/50\n",
            "42/42 [==============================] - 1s 23ms/step - loss: 0.9431 - val_loss: 1.3637\n",
            "Epoch 39/50\n",
            "42/42 [==============================] - 1s 15ms/step - loss: 0.9440 - val_loss: 1.3954\n",
            "Epoch 40/50\n",
            "42/42 [==============================] - 1s 15ms/step - loss: 0.9436 - val_loss: 1.3845\n",
            "Epoch 41/50\n",
            "42/42 [==============================] - 1s 16ms/step - loss: 0.9435 - val_loss: 1.3822\n",
            "Epoch 42/50\n",
            "42/42 [==============================] - 1s 15ms/step - loss: 0.9437 - val_loss: 1.3993\n",
            "Epoch 43/50\n",
            "42/42 [==============================] - 0s 10ms/step - loss: 0.9428 - val_loss: 1.3686\n",
            "Epoch 44/50\n",
            "42/42 [==============================] - 0s 10ms/step - loss: 0.9433 - val_loss: 1.3781\n",
            "Epoch 45/50\n",
            "42/42 [==============================] - 0s 11ms/step - loss: 0.9430 - val_loss: 1.3576\n",
            "Epoch 46/50\n",
            "42/42 [==============================] - 0s 11ms/step - loss: 0.9443 - val_loss: 1.3773\n",
            "Epoch 47/50\n",
            "42/42 [==============================] - 1s 15ms/step - loss: 0.9440 - val_loss: 1.3762\n",
            "Epoch 48/50\n",
            "42/42 [==============================] - 1s 15ms/step - loss: 0.9431 - val_loss: 1.3450\n",
            "Epoch 49/50\n",
            "42/42 [==============================] - 0s 11ms/step - loss: 0.9434 - val_loss: 1.3722\n",
            "Epoch 50/50\n",
            "42/42 [==============================] - 1s 18ms/step - loss: 0.9434 - val_loss: 1.3625\n",
            "10/10 [==============================] - 0s 7ms/step\n"
          ]
        },
        {
          "data": {
            "image/png": "[encoded data removed]",
            "text/plain": [
              "<Figure size 640x480 with 1 Axes>"
            ]
          },
          "metadata": {},
          "output_type": "display_data"
        },
        {
          "data": {
            "image/png": "[encoded data removed]",
            "text/plain": [
              "<Figure size 640x480 with 1 Axes>"
            ]
          },
          "metadata": {},
          "output_type": "display_data"
        }
      ],
      "source": [
        "#un'altra prova, aumentando il numero di epoche ma mantenendo lo stesso modello\n",
        "#training\n",
        "history = model.fit(X_train, y_train,epochs=50, batch_size=30,validation_data= (X_test,y_test))\n",
        "y_pred = model.predict(X_test)\n",
        "\n",
        "# Plot the predicted values\n",
        "plt.plot(ibm_df['Close'], label='True Values')\n",
        "plt.plot(y_pred[:,0],  label='Predicted Values')\n",
        "\n",
        "plt.title('True vs Predicted Values')\n",
        "plt.xlabel('Index')\n",
        "plt.ylabel('Close Price')\n",
        "plt.legend()\n",
        "plt.show()\n",
        "\n",
        "# Extract the MSE values from the history object\n",
        "mse_values = history.history['loss']\n",
        "validation_values = history.history['val_loss']\n",
        "\n",
        "# Plot the trend of MSE with respect to epochs\n",
        "plt.plot(range(1, len(mse_values) + 1), mse_values, label='MSE')\n",
        "plt.plot(range(1, len(validation_values) + 1), validation_values, label='Validation Test')\n",
        "plt.title('Mean Squared Error (MSE) Trend')\n",
        "plt.xlabel('Epochs')\n",
        "plt.ylabel('MSE')\n",
        "plt.legend()\n",
        "plt.show()"
      ]
    },
    {
      "cell_type": "code",
      "execution_count": null,
      "metadata": {
        "id": "2dXeRZnnMy1m"
      },
      "outputs": [],
      "source": [
        "#stesso modello, aumentando la finestra temporale a 10 settimane (50 epoche)\n",
        "splitlimit = int(len(ibm_df) * 0.8)\n",
        "ibm_df_train_set = ibm_df.loc[:splitlimit,:]\n",
        "ibm_df_test_set = ibm_df.loc[splitlimit:,:]\n",
        "\n",
        "X_train=[]\n",
        "y_train =[]\n",
        "df_days=ibm_df_train_set.shape[0]\n",
        "\n",
        "for x in range(10, df_days): #prendo intanto una finestra di 5 settimane\n",
        "  X_train.append(ibm_df.loc[x-10:x-1,'Close'])\n",
        "  y_train.append(ibm_df.loc[x,'Close'])\n",
        "\n",
        "X_train,y_train = np.array(X_train), np.array(y_train)\n",
        "X_train = np.reshape(X_train, (X_train.shape[0], X_train.shape[1],1))\n",
        "\n",
        "\n",
        "X_test=[]\n",
        "y_test =[]\n",
        "\n",
        "for x in range(df_days, ibm_df.shape[0]): #prendo intanto una finestra di 5 settimane\n",
        "  X_test.append(ibm_df.loc[x-10:x-1,'Close'])\n",
        "  y_test.append(ibm_df.loc[x,'Close'])\n",
        "\n",
        "X_test,y_test = np.array(X_test), np.array(y_test)\n",
        "X_test = np.reshape(X_test, (X_test.shape[0], X_test.shape[1],1))\n",
        "\n",
        "\n",
        "#definition\n",
        "model=LSTM_model(X_train)\n",
        "model.build()\n",
        "display(model.summary())\n",
        "model.compile(optimizer='adam',\n",
        "              loss='mean_squared_error')\n",
        "\n",
        "\n",
        "\n",
        "\n",
        "#training\n",
        "history = model.fit(X_train, y_train,epochs=50, batch_size=30,validation_data= (X_test,y_test))\n",
        "y_pred = model.predict(X_test)\n",
        "\n",
        "# Plot the predicted values\n",
        "plt.plot(ibm_df['Close'], label='True Values')\n",
        "plt.plot(y_pred[:,0],  label='Predicted Values')\n",
        "\n",
        "plt.title('True vs Predicted Values')\n",
        "plt.xlabel('Index')\n",
        "plt.ylabel('Close Price')\n",
        "plt.legend()\n",
        "plt.show()\n",
        "\n",
        "# Extract the MSE values from the history object\n",
        "mse_values = history.history['loss']\n",
        "validation_values = history.history['val_loss']\n",
        "\n",
        "# Plot the trend of MSE with respect to epochs\n",
        "plt.plot(range(1, len(mse_values) + 1), mse_values, label='MSE')\n",
        "plt.plot(range(1, len(validation_values) + 1), validation_values, label='Validation Test')\n",
        "plt.title('Mean Squared Error (MSE) Trend')\n",
        "plt.xlabel('Epochs')\n",
        "plt.ylabel('MSE')\n",
        "plt.legend()\n",
        "plt.show()"
      ]
    },
    {
      "cell_type": "markdown",
      "metadata": {
        "id": "uBkSsnDkO8Np"
      },
      "source": [
        ":## SECONDA ARCHITETTURA: inserisco anche gli indicatori in X_train input. 10 epoche, finestra di 5 settimane"
      ]
    },
    {
      "cell_type": "code",
      "execution_count": null,
      "metadata": {
        "colab": {
          "base_uri": "https://localhost:8080/",
          "height": 201
        },
        "id": "lx1Q_HMoOYM7",
        "outputId": "f3b341ee-7a9c-479a-c9d8-6ae8bf5dcf4a"
      },
      "outputs": [
        {
          "ename": "NameError",
          "evalue": "name 'ta' is not defined",
          "output_type": "error",
          "traceback": [
            "\u001b[0;31m---------------------------------------------------------------------------\u001b[0m",
            "\u001b[0;31mNameError\u001b[0m                                 Traceback (most recent call last)",
            "\u001b[0;32m<ipython-input-1-cfbf1be8340c>\u001b[0m in \u001b[0;36m<cell line: 17>\u001b[0;34m()\u001b[0m\n\u001b[1;32m     15\u001b[0m \u001b[0;34m\u001b[0m\u001b[0m\n\u001b[1;32m     16\u001b[0m \u001b[0;34m\u001b[0m\u001b[0m\n\u001b[0;32m---> 17\u001b[0;31m \u001b[0mibm_df\u001b[0m\u001b[0;34m[\u001b[0m\u001b[0;34m'RSI'\u001b[0m\u001b[0;34m]\u001b[0m\u001b[0;34m=\u001b[0m\u001b[0mta\u001b[0m\u001b[0;34m.\u001b[0m\u001b[0mrsi\u001b[0m\u001b[0;34m(\u001b[0m\u001b[0mibm_df\u001b[0m\u001b[0;34m.\u001b[0m\u001b[0mClose\u001b[0m\u001b[0;34m,\u001b[0m \u001b[0mlength\u001b[0m\u001b[0;34m=\u001b[0m\u001b[0;36m10\u001b[0m\u001b[0;34m)\u001b[0m\u001b[0;34m\u001b[0m\u001b[0;34m\u001b[0m\u001b[0m\n\u001b[0m\u001b[1;32m     18\u001b[0m \u001b[0mibm_df\u001b[0m\u001b[0;34m[\u001b[0m\u001b[0;34m'EMAF'\u001b[0m\u001b[0;34m]\u001b[0m\u001b[0;34m=\u001b[0m\u001b[0mta\u001b[0m\u001b[0;34m.\u001b[0m\u001b[0mema\u001b[0m\u001b[0;34m(\u001b[0m\u001b[0mibm_df\u001b[0m\u001b[0;34m.\u001b[0m\u001b[0mClose\u001b[0m\u001b[0;34m,\u001b[0m \u001b[0mlength\u001b[0m\u001b[0;34m=\u001b[0m\u001b[0;36m20\u001b[0m\u001b[0;34m)\u001b[0m\u001b[0;34m\u001b[0m\u001b[0;34m\u001b[0m\u001b[0m\n\u001b[1;32m     19\u001b[0m \u001b[0mibm_df\u001b[0m\u001b[0;34m[\u001b[0m\u001b[0;34m'EMAM'\u001b[0m\u001b[0;34m]\u001b[0m\u001b[0;34m=\u001b[0m\u001b[0mta\u001b[0m\u001b[0;34m.\u001b[0m\u001b[0mema\u001b[0m\u001b[0;34m(\u001b[0m\u001b[0mibm_df\u001b[0m\u001b[0;34m.\u001b[0m\u001b[0mClose\u001b[0m\u001b[0;34m,\u001b[0m \u001b[0mlength\u001b[0m\u001b[0;34m=\u001b[0m\u001b[0;36m100\u001b[0m\u001b[0;34m)\u001b[0m\u001b[0;34m\u001b[0m\u001b[0;34m\u001b[0m\u001b[0m\n",
            "\u001b[0;31mNameError\u001b[0m: name 'ta' is not defined"
          ]
        }
      ],
      "source": [
        "def LSTM_model(X_train, p_dropout=0.2):\n",
        "  model =Sequential()\n",
        "  model.add(\n",
        "      LSTM(units=50,\n",
        "           return_sequences=True,\n",
        "           input_shape =(X_train.shape[1],5))\n",
        "  )\n",
        "  model.add(Dropout(p_dropout))\n",
        "  model.add(LSTM(units=50,\n",
        "           return_sequences=True))\n",
        "  model.add(Dropout(p_dropout))\n",
        "\n",
        "  model.add(Dense(units=1))\n",
        "  return model\n",
        "\n",
        "\n",
        "ibm_df['RSI']=ta.rsi(ibm_df.Close, length=10)\n",
        "ibm_df['EMAF']=ta.ema(ibm_df.Close, length=20)\n",
        "ibm_df['EMAM']=ta.ema(ibm_df.Close, length=100)\n",
        "ibm_df['EMAS']=ta.ema(ibm_df.Close, length=150)\n",
        "\n",
        "ibm_df.dropna(inplace=True)\n",
        "splitlimit = int(len(ibm_df) * 0.8)\n",
        "ibm_df_train_set = ibm_df.loc[:ibm_df.index[0]+splitlimit,:] ####iloc\n",
        "\n",
        "\n",
        "X_train=[]\n",
        "y_train =[]\n",
        "df_days=ibm_df_train_set.shape[0]\n",
        "\n",
        "for x in range(ibm_df.index[0]+5, df_days): #prendo intanto una finestra di 5 settimane\n",
        "  X_train.append(ibm_df.loc[x-5:x-1,['Close','RSI','EMAF','EMAM','EMAS']].values)\n",
        "  y_train.append(ibm_df.loc[x,'Close'])\n",
        "\n",
        "X_train,y_train = np.array(X_train), np.array(y_train)\n",
        "\n",
        "\n",
        "\n",
        "X_test=[]\n",
        "y_test =[]\n",
        "\n",
        "for x in range(ibm_df.index[0]+df_days, ibm_df.shape[0]): #prendo intanto una finestra di 5 settimane\n",
        "  X_test.append(ibm_df.loc[x-5:x-1,['Close','RSI','EMAF','EMAM','EMAS']].values)\n",
        "  y_test.append(ibm_df.loc[x,'Close'])\n",
        "\n",
        "X_test,y_test = np.array(X_test), np.array(y_test) #non serve convertirlo ancora y_test è già pronto\n",
        "\n",
        "\n",
        "#definition\n",
        "model=LSTM_model(X_train)\n",
        "model.build()\n",
        "display(model.summary())\n",
        "model.compile(optimizer='adam',\n",
        "              loss='mean_squared_error')\n",
        "\n",
        "\n",
        "\n",
        "\n",
        "#training\n",
        "history = model.fit(X_train, y_train,epochs=10, batch_size=30,validation_data= (X_test,y_test))\n",
        "y_pred = model.predict(X_test)\n",
        "\n",
        "# Plot the predicted values\n",
        "plt.plot(ibm_df['Close'], label='True Values')\n",
        "plt.plot(y_pred[:,0],  label='Predicted Values')\n",
        "\n",
        "plt.title('True vs Predicted Values')\n",
        "plt.xlabel('Index')\n",
        "plt.ylabel('Close Price')\n",
        "plt.legend()\n",
        "plt.show()\n",
        "\n",
        "# Extract the MSE values from the history object\n",
        "mse_values = history.history['loss']\n",
        "\n",
        "# Plot the trend of MSE with respect to epochs\n",
        "plt.plot(range(1, len(mse_values) + 1), mse_values, label='MSE')\n",
        "plt.title('Mean Squared Error (MSE) Trend')\n",
        "plt.xlabel('Epochs')\n",
        "plt.ylabel('MSE')\n",
        "plt.legend()\n",
        "plt.show()\n"
      ]
    },
    {
      "cell_type": "markdown",
      "metadata": {
        "id": "ngKQiJI1XZ0A"
      },
      "source": [
        "##TERZA ARCHITETTURA: performance migliore di 4"
      ]
    },
    {
      "cell_type": "code",
      "execution_count": null,
      "metadata": {
        "id": "KGNUVVjnXckH"
      },
      "outputs": [],
      "source": [
        "#nuovo modello: inserisco anche gli indicatori in X_train input. 30 epoche, finestra di 10 settimane\n",
        "\n",
        "def LSTM_model(X_train, p_dropout=0.2):\n",
        "  model =Sequential()\n",
        "  model.add(\n",
        "      LSTM(units=50,\n",
        "           return_sequences=True,\n",
        "           input_shape =(X_train.shape[1],5))\n",
        "  )\n",
        "  model.add(Dropout(p_dropout))\n",
        "  model.add(LSTM(units=50,\n",
        "           return_sequences=True))\n",
        "  model.add(Dropout(p_dropout))\n",
        "\n",
        "  model.add(Dense(units=1))\n",
        "  return model\n",
        "\n",
        "\n",
        "ibm_df['RSI']=ta.rsi(ibm_df.Close, length=10)\n",
        "ibm_df['EMAF']=ta.ema(ibm_df.Close, length=20)\n",
        "ibm_df['EMAM']=ta.ema(ibm_df.Close, length=100)\n",
        "ibm_df['EMAS']=ta.ema(ibm_df.Close, length=150)\n",
        "\n",
        "ibm_df.dropna(inplace=True)\n",
        "splitlimit = int(len(ibm_df) * 0.8)\n",
        "ibm_df_train_set = ibm_df.loc[:ibm_df.index[0]+splitlimit,:] ####iloc\n",
        "\n",
        "\n",
        "X_train=[]\n",
        "y_train =[]\n",
        "df_days=ibm_df_train_set.shape[0]\n",
        "\n",
        "for x in range(ibm_df.index[0]+10, df_days): #prendo intanto una finestra di 10 settimane\n",
        "  X_train.append(ibm_df.loc[x-10:x-1,['Close','RSI','EMAF','EMAM','EMAS']].values)\n",
        "  y_train.append(ibm_df.loc[x,'Close'])\n",
        "\n",
        "X_train,y_train = np.array(X_train), np.array(y_train)\n",
        "\n",
        "\n",
        "\n",
        "X_test=[]\n",
        "y_test =[]\n",
        "\n",
        "for x in range(ibm_df.index[0]+df_days, ibm_df.shape[0]): #prendo intanto una finestra di 10 settimane\n",
        "  X_test.append(ibm_df.loc[x-10:x-1,['Close','RSI','EMAF','EMAM','EMAS']].values)\n",
        "  y_test.append(ibm_df.loc[x,'Close'])\n",
        "\n",
        "X_test,y_test = np.array(X_test), np.array(y_test) #non serve convertirlo ancora y_test è già pronto\n",
        "\n",
        "\n",
        "#definition\n",
        "model=LSTM_model(X_train)\n",
        "model.build()\n",
        "display(model.summary())\n",
        "model.compile(optimizer='adam',\n",
        "              loss='mean_squared_error')\n",
        "\n",
        "\n",
        "\n",
        "\n",
        "#training\n",
        "history = model.fit(X_train, y_train,epochs=30, batch_size=10,validation_data= (X_test,y_test))\n",
        "y_pred = model.predict(X_test)\n",
        "\n",
        "# Plot the predicted values\n",
        "plt.plot(y_test, label='True Values')\n",
        "plt.plot(y_pred[:,0],  label='Predicted Values')\n",
        "\n",
        "plt.title('True vs Predicted Values')\n",
        "plt.xlabel('Index')\n",
        "plt.ylabel('Close Price')\n",
        "plt.legend()\n",
        "plt.show()\n",
        "\n",
        "# Extract the MSE values from the history object\n",
        "mse_values = history.history['loss']\n",
        "validation_values = history.history['val_loss']\n",
        "\n",
        "# Plot the trend of MSE with respect to epochs\n",
        "plt.plot(range(1, len(mse_values) + 1), mse_values, label='MSE')\n",
        "plt.plot(range(1, len(validation_values) + 1), validation_values, label='Validation Test')\n",
        "plt.title('Mean Squared Error (MSE) Trend')\n",
        "plt.xlabel('Epochs')\n",
        "plt.ylabel('MSE')\n",
        "plt.legend()\n",
        "plt.show()"
      ]
    },
    {
      "cell_type": "markdown",
      "metadata": {
        "id": "T-fVcU8CZfuo"
      },
      "source": [
        "## QUARTA ARCHITETTURA: con indicatori, 15 epoche, e più layers."
      ]
    },
    {
      "cell_type": "code",
      "execution_count": null,
      "metadata": {
        "id": "0rR4z7CgZe_6"
      },
      "outputs": [],
      "source": [
        "def LSTM_model(X_train, p_dropout=0.2):\n",
        "  model =Sequential()\n",
        "  model.add(\n",
        "      LSTM(units=50,\n",
        "           return_sequences=True,\n",
        "           input_shape =(X_train.shape[1],5))\n",
        "  )\n",
        "  model.add(Dropout(p_dropout))\n",
        "  model.add(LSTM(units=50,\n",
        "           return_sequences=True))\n",
        "  model.add(Dropout(p_dropout))\n",
        "\n",
        "  model.add(Dropout(p_dropout))\n",
        "  model.add(LSTM(units=50,\n",
        "           return_sequences=True))\n",
        "  model.add(Dropout(p_dropout))\n",
        "\n",
        "  model.add(Dropout(p_dropout))\n",
        "  model.add(LSTM(units=50,\n",
        "           return_sequences=True))\n",
        "  model.add(Dropout(p_dropout))\n",
        "\n",
        "  model.add(Dropout(p_dropout))\n",
        "  model.add(LSTM(units=50,\n",
        "           return_sequences=True))\n",
        "  model.add(Dropout(p_dropout))\n",
        "\n",
        "  model.add(Dense(units=1))\n",
        "  return model\n",
        "\n",
        "\n",
        "ibm_df['RSI']=ta.rsi(ibm_df.Close, length=10)\n",
        "ibm_df['EMAF']=ta.ema(ibm_df.Close, length=20)\n",
        "ibm_df['EMAM']=ta.ema(ibm_df.Close, length=100)\n",
        "ibm_df['EMAS']=ta.ema(ibm_df.Close, length=150)\n",
        "\n",
        "ibm_df.dropna(inplace=True)\n",
        "splitlimit = int(len(ibm_df) * 0.8)\n",
        "ibm_df_train_set = ibm_df.loc[:ibm_df.index[0]+splitlimit,:] ####iloc\n",
        "\n",
        "\n",
        "X_train=[]\n",
        "y_train =[]\n",
        "df_days=ibm_df_train_set.shape[0]\n",
        "\n",
        "for x in range(ibm_df.index[0]+10, df_days): #prendo intanto una finestra di 10 settimane\n",
        "  X_train.append(ibm_df.loc[x-10:x-1,['Close','RSI','EMAF','EMAM','EMAS']].values)\n",
        "  y_train.append(ibm_df.loc[x,'Close'])\n",
        "\n",
        "X_train,y_train = np.array(X_train), np.array(y_train)\n",
        "\n",
        "\n",
        "\n",
        "X_test=[]\n",
        "y_test =[]\n",
        "\n",
        "for x in range(ibm_df.index[0]+df_days, ibm_df.shape[0]): #prendo intanto una finestra di 10 settimane\n",
        "  X_test.append(ibm_df.loc[x-10:x-1,['Close','RSI','EMAF','EMAM','EMAS']].values)\n",
        "  y_test.append(ibm_df.loc[x,'Close'])\n",
        "\n",
        "X_test,y_test = np.array(X_test), np.array(y_test) #non serve convertirlo ancora y_test è già pronto\n",
        "\n",
        "\n",
        "#definition\n",
        "model=LSTM_model(X_train)\n",
        "model.build()\n",
        "display(model.summary())\n",
        "model.compile(optimizer='adam',\n",
        "              loss='mean_squared_error')\n",
        "\n",
        "\n",
        "#training\n",
        "history = model.fit(X_train, y_train,epochs=15, batch_size=10,validation_data= (X_test,y_test))\n",
        "y_pred = model.predict(X_test)\n",
        "\n",
        "# Plot the predicted values\n",
        "plt.plot(y_test, label='True Values')\n",
        "plt.plot(y_pred[:,0],  label='Predicted Values')\n",
        "\n",
        "plt.title('True vs Predicted Values')\n",
        "plt.xlabel('Index')\n",
        "plt.ylabel('Close Price')\n",
        "plt.legend()\n",
        "plt.show()\n",
        "\n",
        "# Extract the MSE values from the history object\n",
        "mse_values = history.history['loss']\n",
        "\n",
        "# Plot the trend of MSE with respect to epochs\n",
        "plt.plot(range(1, len(mse_values) + 1), mse_values, label='MSE')\n",
        "plt.title('Mean Squared Error (MSE) Trend')\n",
        "plt.xlabel('Epochs')\n",
        "plt.ylabel('MSE')\n",
        "plt.legend()\n",
        "plt.show()"
      ]
    },
    {
      "cell_type": "markdown",
      "metadata": {
        "id": "JG8s4v_VcqTz"
      },
      "source": [
        "## QUINTA ARCHITETTURA: ritorno verso la quarta, e riduco le units"
      ]
    },
    {
      "cell_type": "code",
      "execution_count": null,
      "metadata": {
        "id": "WT1xXyDngGRK"
      },
      "outputs": [],
      "source": [
        "X_test"
      ]
    },
    {
      "cell_type": "code",
      "execution_count": null,
      "metadata": {
        "id": "dOrwLD4GcxRj"
      },
      "outputs": [],
      "source": [
        "def LSTM_model(X_train, p_dropout=0.2):\n",
        "  model =Sequential()\n",
        "  model.add(\n",
        "      LSTM(units=10,\n",
        "           return_sequences=True,\n",
        "           input_shape =(X_train.shape[1],5))\n",
        "  )\n",
        "  model.add(Dropout(p_dropout))\n",
        "  model.add(LSTM(units=10,\n",
        "           return_sequences=True))\n",
        "  model.add(Dropout(p_dropout))\n",
        "\n",
        "  model.add(Dense(units=1))\n",
        "  return model\n",
        "\n",
        "\n",
        "ibm_df['RSI']=ta.rsi(ibm_df.Close, length=10)\n",
        "ibm_df['EMAF']=ta.ema(ibm_df.Close, length=20)\n",
        "ibm_df['EMAM']=ta.ema(ibm_df.Close, length=100)\n",
        "ibm_df['EMAS']=ta.ema(ibm_df.Close, length=150)\n",
        "\n",
        "ibm_df.dropna(inplace=True)\n",
        "splitlimit = int(len(ibm_df) * 0.8)\n",
        "ibm_df_train_set = ibm_df.loc[:ibm_df.index[0]+splitlimit,:] ####iloc\n",
        "\n",
        "\n",
        "X_train=[]\n",
        "y_train =[]\n",
        "df_days=ibm_df_train_set.shape[0]\n",
        "\n",
        "for x in range(ibm_df.index[0]+10, df_days): #prendo intanto una finestra di 10 settimane\n",
        "  X_train.append(ibm_df.loc[x-10:x-1,['Close','RSI','EMAF','EMAM','EMAS']].values)\n",
        "  y_train.append(ibm_df.loc[x,'Close'])\n",
        "\n",
        "X_train,y_train = np.array(X_train), np.array(y_train)\n",
        "\n",
        "\n",
        "\n",
        "X_test=[]\n",
        "y_test =[]\n",
        "\n",
        "for x in range(ibm_df.index[0]+df_days, ibm_df.shape[0]): #prendo intanto una finestra di 10 settimane\n",
        "  X_test.append(ibm_df.loc[x-10:x-1,['Close','RSI','EMAF','EMAM','EMAS']].values)\n",
        "  y_test.append(ibm_df.loc[x,'Close'])\n",
        "\n",
        "X_test,y_test = np.array(X_test), np.array(y_test) #non serve convertirlo ancora y_test è già pronto\n",
        "\n",
        "\n",
        "#definition\n",
        "model=LSTM_model(X_train)\n",
        "model.build()\n",
        "display(model.summary())\n",
        "model.compile(optimizer='adam',\n",
        "              loss='mean_squared_error')\n",
        "\n",
        "\n",
        "\n",
        "\n",
        "#training\n",
        "history = model.fit(X_train, y_train,epochs=30, batch_size=10,validation_data= (X_test,y_test))\n",
        "y_pred = model.predict(X_test)\n",
        "\n",
        "# Plot the predicted values\n",
        "plt.plot(y_test, label='True Values')\n",
        "plt.plot(y_pred[:,0],  label='Predicted Values')\n",
        "\n",
        "plt.title('True vs Predicted Values')\n",
        "plt.xlabel('Index')\n",
        "plt.ylabel('Close Price')\n",
        "plt.legend()\n",
        "plt.show()\n",
        "\n",
        "# Extract the MSE values from the history object\n",
        "mse_values = history.history['loss']\n",
        "validation_values = history.history['val_loss']\n",
        "\n",
        "# Plot the trend of MSE with respect to epochs\n",
        "plt.plot(range(1, len(mse_values) + 1), mse_values, label='MSE')\n",
        "plt.plot(range(1, len(validation_values) + 1), validation_values, label='Validation Test')\n",
        "plt.title('Mean Squared Error (MSE) Trend')\n",
        "plt.xlabel('Epochs')\n",
        "plt.ylabel('MSE')\n",
        "plt.legend()\n",
        "plt.show()"
      ]
    },
    {
      "cell_type": "markdown",
      "metadata": {
        "id": "lCdcX3Hqyv-c"
      },
      "source": [
        "## ARCHITETTURA CON LOG RETURN"
      ]
    },
    {
      "cell_type": "code",
      "execution_count": null,
      "metadata": {
        "id": "Ps_Ta5sQ2uJ0",
        "colab": {
          "base_uri": "https://localhost:8080/"
        },
        "outputId": "b473bc9b-753d-4534-93fb-94d48bbe7112"
      },
      "outputs": [
        {
          "output_type": "stream",
          "name": "stderr",
          "text": [
            "/usr/local/lib/python3.10/dist-packages/pandas/core/arraylike.py:396: RuntimeWarning: invalid value encountered in log\n",
            "  result = getattr(ufunc, method)(*inputs, **kwargs)\n"
          ]
        }
      ],
      "source": [
        "ibm_df['log return'] = np.log(ibm_df['Close'].shift(-1)/ibm_df['Close'])"
      ]
    },
    {
      "cell_type": "code",
      "execution_count": null,
      "metadata": {
        "id": "1X1IxVPKy56z",
        "colab": {
          "base_uri": "https://localhost:8080/",
          "height": 489
        },
        "outputId": "7b5b744c-671f-4404-c863-15f5e2d20d0c"
      },
      "outputs": [
        {
          "output_type": "stream",
          "name": "stderr",
          "text": [
            "/usr/local/lib/python3.10/dist-packages/pandas/core/arraylike.py:396: RuntimeWarning: invalid value encountered in log\n",
            "  result = getattr(ufunc, method)(*inputs, **kwargs)\n"
          ]
        },
        {
          "output_type": "error",
          "ename": "KeyError",
          "evalue": "742",
          "traceback": [
            "\u001b[0;31m---------------------------------------------------------------------------\u001b[0m",
            "\u001b[0;31mKeyError\u001b[0m                                  Traceback (most recent call last)",
            "\u001b[0;32m/usr/local/lib/python3.10/dist-packages/pandas/core/indexes/base.py\u001b[0m in \u001b[0;36mget_loc\u001b[0;34m(self, key)\u001b[0m\n\u001b[1;32m   3652\u001b[0m         \u001b[0;32mtry\u001b[0m\u001b[0;34m:\u001b[0m\u001b[0;34m\u001b[0m\u001b[0;34m\u001b[0m\u001b[0m\n\u001b[0;32m-> 3653\u001b[0;31m             \u001b[0;32mreturn\u001b[0m \u001b[0mself\u001b[0m\u001b[0;34m.\u001b[0m\u001b[0m_engine\u001b[0m\u001b[0;34m.\u001b[0m\u001b[0mget_loc\u001b[0m\u001b[0;34m(\u001b[0m\u001b[0mcasted_key\u001b[0m\u001b[0;34m)\u001b[0m\u001b[0;34m\u001b[0m\u001b[0;34m\u001b[0m\u001b[0m\n\u001b[0m\u001b[1;32m   3654\u001b[0m         \u001b[0;32mexcept\u001b[0m \u001b[0mKeyError\u001b[0m \u001b[0;32mas\u001b[0m \u001b[0merr\u001b[0m\u001b[0;34m:\u001b[0m\u001b[0;34m\u001b[0m\u001b[0;34m\u001b[0m\u001b[0m\n",
            "\u001b[0;32m/usr/local/lib/python3.10/dist-packages/pandas/_libs/index.pyx\u001b[0m in \u001b[0;36mpandas._libs.index.IndexEngine.get_loc\u001b[0;34m()\u001b[0m\n",
            "\u001b[0;32m/usr/local/lib/python3.10/dist-packages/pandas/_libs/index.pyx\u001b[0m in \u001b[0;36mpandas._libs.index.IndexEngine.get_loc\u001b[0;34m()\u001b[0m\n",
            "\u001b[0;32mpandas/_libs/hashtable_class_helper.pxi\u001b[0m in \u001b[0;36mpandas._libs.hashtable.Int64HashTable.get_item\u001b[0;34m()\u001b[0m\n",
            "\u001b[0;32mpandas/_libs/hashtable_class_helper.pxi\u001b[0m in \u001b[0;36mpandas._libs.hashtable.Int64HashTable.get_item\u001b[0;34m()\u001b[0m\n",
            "\u001b[0;31mKeyError\u001b[0m: 742",
            "\nThe above exception was the direct cause of the following exception:\n",
            "\u001b[0;31mKeyError\u001b[0m                                  Traceback (most recent call last)",
            "\u001b[0;32m<ipython-input-6-00d3f8c7fa34>\u001b[0m in \u001b[0;36m<cell line: 36>\u001b[0;34m()\u001b[0m\n\u001b[1;32m     36\u001b[0m \u001b[0;32mfor\u001b[0m \u001b[0mx\u001b[0m \u001b[0;32min\u001b[0m \u001b[0mrange\u001b[0m\u001b[0;34m(\u001b[0m\u001b[0mibm_df_train_set\u001b[0m\u001b[0;34m.\u001b[0m\u001b[0mindex\u001b[0m\u001b[0;34m[\u001b[0m\u001b[0;36m0\u001b[0m\u001b[0;34m]\u001b[0m\u001b[0;34m+\u001b[0m\u001b[0;36m5\u001b[0m\u001b[0;34m,\u001b[0m\u001b[0mibm_df_train_set\u001b[0m\u001b[0;34m.\u001b[0m\u001b[0mindex\u001b[0m\u001b[0;34m[\u001b[0m\u001b[0;36m0\u001b[0m\u001b[0;34m]\u001b[0m\u001b[0;34m+\u001b[0m\u001b[0mibm_df_train_set\u001b[0m\u001b[0;34m.\u001b[0m\u001b[0mshape\u001b[0m\u001b[0;34m[\u001b[0m\u001b[0;36m0\u001b[0m\u001b[0;34m]\u001b[0m\u001b[0;34m)\u001b[0m\u001b[0;34m:\u001b[0m \u001b[0;31m#prendo intanto una finestra di 5 settimane\u001b[0m\u001b[0;34m\u001b[0m\u001b[0;34m\u001b[0m\u001b[0m\n\u001b[1;32m     37\u001b[0m   \u001b[0mX_train\u001b[0m\u001b[0;34m.\u001b[0m\u001b[0mappend\u001b[0m\u001b[0;34m(\u001b[0m\u001b[0mibm_df\u001b[0m\u001b[0;34m.\u001b[0m\u001b[0mloc\u001b[0m\u001b[0;34m[\u001b[0m\u001b[0mx\u001b[0m\u001b[0;34m-\u001b[0m\u001b[0;36m5\u001b[0m\u001b[0;34m:\u001b[0m\u001b[0mx\u001b[0m\u001b[0;34m-\u001b[0m\u001b[0;36m1\u001b[0m\u001b[0;34m,\u001b[0m\u001b[0;34m[\u001b[0m\u001b[0;34m'log return'\u001b[0m\u001b[0;34m,\u001b[0m\u001b[0;34m'RSI'\u001b[0m\u001b[0;34m,\u001b[0m\u001b[0;34m'EMAF'\u001b[0m\u001b[0;34m,\u001b[0m\u001b[0;34m'EMAM'\u001b[0m\u001b[0;34m,\u001b[0m\u001b[0;34m'EMAS'\u001b[0m\u001b[0;34m]\u001b[0m\u001b[0;34m]\u001b[0m\u001b[0;34m.\u001b[0m\u001b[0mvalues\u001b[0m\u001b[0;34m)\u001b[0m\u001b[0;34m\u001b[0m\u001b[0;34m\u001b[0m\u001b[0m\n\u001b[0;32m---> 38\u001b[0;31m   \u001b[0my_train\u001b[0m\u001b[0;34m.\u001b[0m\u001b[0mappend\u001b[0m\u001b[0;34m(\u001b[0m\u001b[0mibm_df\u001b[0m\u001b[0;34m.\u001b[0m\u001b[0mloc\u001b[0m\u001b[0;34m[\u001b[0m\u001b[0mx\u001b[0m\u001b[0;34m,\u001b[0m\u001b[0;34m'log return'\u001b[0m\u001b[0;34m]\u001b[0m\u001b[0;34m)\u001b[0m\u001b[0;34m\u001b[0m\u001b[0;34m\u001b[0m\u001b[0m\n\u001b[0m\u001b[1;32m     39\u001b[0m \u001b[0;34m\u001b[0m\u001b[0m\n\u001b[1;32m     40\u001b[0m \u001b[0mX_train\u001b[0m\u001b[0;34m,\u001b[0m\u001b[0my_train\u001b[0m \u001b[0;34m=\u001b[0m \u001b[0mnp\u001b[0m\u001b[0;34m.\u001b[0m\u001b[0marray\u001b[0m\u001b[0;34m(\u001b[0m\u001b[0mX_train\u001b[0m\u001b[0;34m)\u001b[0m\u001b[0;34m,\u001b[0m \u001b[0mnp\u001b[0m\u001b[0;34m.\u001b[0m\u001b[0marray\u001b[0m\u001b[0;34m(\u001b[0m\u001b[0my_train\u001b[0m\u001b[0;34m)\u001b[0m\u001b[0;34m\u001b[0m\u001b[0;34m\u001b[0m\u001b[0m\n",
            "\u001b[0;32m/usr/local/lib/python3.10/dist-packages/pandas/core/indexing.py\u001b[0m in \u001b[0;36m__getitem__\u001b[0;34m(self, key)\u001b[0m\n\u001b[1;32m   1094\u001b[0m             \u001b[0mkey\u001b[0m \u001b[0;34m=\u001b[0m \u001b[0mtuple\u001b[0m\u001b[0;34m(\u001b[0m\u001b[0mcom\u001b[0m\u001b[0;34m.\u001b[0m\u001b[0mapply_if_callable\u001b[0m\u001b[0;34m(\u001b[0m\u001b[0mx\u001b[0m\u001b[0;34m,\u001b[0m \u001b[0mself\u001b[0m\u001b[0;34m.\u001b[0m\u001b[0mobj\u001b[0m\u001b[0;34m)\u001b[0m \u001b[0;32mfor\u001b[0m \u001b[0mx\u001b[0m \u001b[0;32min\u001b[0m \u001b[0mkey\u001b[0m\u001b[0;34m)\u001b[0m\u001b[0;34m\u001b[0m\u001b[0;34m\u001b[0m\u001b[0m\n\u001b[1;32m   1095\u001b[0m             \u001b[0;32mif\u001b[0m \u001b[0mself\u001b[0m\u001b[0;34m.\u001b[0m\u001b[0m_is_scalar_access\u001b[0m\u001b[0;34m(\u001b[0m\u001b[0mkey\u001b[0m\u001b[0;34m)\u001b[0m\u001b[0;34m:\u001b[0m\u001b[0;34m\u001b[0m\u001b[0;34m\u001b[0m\u001b[0m\n\u001b[0;32m-> 1096\u001b[0;31m                 \u001b[0;32mreturn\u001b[0m \u001b[0mself\u001b[0m\u001b[0;34m.\u001b[0m\u001b[0mobj\u001b[0m\u001b[0;34m.\u001b[0m\u001b[0m_get_value\u001b[0m\u001b[0;34m(\u001b[0m\u001b[0;34m*\u001b[0m\u001b[0mkey\u001b[0m\u001b[0;34m,\u001b[0m \u001b[0mtakeable\u001b[0m\u001b[0;34m=\u001b[0m\u001b[0mself\u001b[0m\u001b[0;34m.\u001b[0m\u001b[0m_takeable\u001b[0m\u001b[0;34m)\u001b[0m\u001b[0;34m\u001b[0m\u001b[0;34m\u001b[0m\u001b[0m\n\u001b[0m\u001b[1;32m   1097\u001b[0m             \u001b[0;32mreturn\u001b[0m \u001b[0mself\u001b[0m\u001b[0;34m.\u001b[0m\u001b[0m_getitem_tuple\u001b[0m\u001b[0;34m(\u001b[0m\u001b[0mkey\u001b[0m\u001b[0;34m)\u001b[0m\u001b[0;34m\u001b[0m\u001b[0;34m\u001b[0m\u001b[0m\n\u001b[1;32m   1098\u001b[0m         \u001b[0;32melse\u001b[0m\u001b[0;34m:\u001b[0m\u001b[0;34m\u001b[0m\u001b[0;34m\u001b[0m\u001b[0m\n",
            "\u001b[0;32m/usr/local/lib/python3.10/dist-packages/pandas/core/frame.py\u001b[0m in \u001b[0;36m_get_value\u001b[0;34m(self, index, col, takeable)\u001b[0m\n\u001b[1;32m   3875\u001b[0m             \u001b[0;31m#  results if our categories are integers that dont match our codes\u001b[0m\u001b[0;34m\u001b[0m\u001b[0;34m\u001b[0m\u001b[0m\n\u001b[1;32m   3876\u001b[0m             \u001b[0;31m# IntervalIndex: IntervalTree has no get_loc\u001b[0m\u001b[0;34m\u001b[0m\u001b[0;34m\u001b[0m\u001b[0m\n\u001b[0;32m-> 3877\u001b[0;31m             \u001b[0mrow\u001b[0m \u001b[0;34m=\u001b[0m \u001b[0mself\u001b[0m\u001b[0;34m.\u001b[0m\u001b[0mindex\u001b[0m\u001b[0;34m.\u001b[0m\u001b[0mget_loc\u001b[0m\u001b[0;34m(\u001b[0m\u001b[0mindex\u001b[0m\u001b[0;34m)\u001b[0m\u001b[0;34m\u001b[0m\u001b[0;34m\u001b[0m\u001b[0m\n\u001b[0m\u001b[1;32m   3878\u001b[0m             \u001b[0;32mreturn\u001b[0m \u001b[0mseries\u001b[0m\u001b[0;34m.\u001b[0m\u001b[0m_values\u001b[0m\u001b[0;34m[\u001b[0m\u001b[0mrow\u001b[0m\u001b[0;34m]\u001b[0m\u001b[0;34m\u001b[0m\u001b[0;34m\u001b[0m\u001b[0m\n\u001b[1;32m   3879\u001b[0m \u001b[0;34m\u001b[0m\u001b[0m\n",
            "\u001b[0;32m/usr/local/lib/python3.10/dist-packages/pandas/core/indexes/base.py\u001b[0m in \u001b[0;36mget_loc\u001b[0;34m(self, key)\u001b[0m\n\u001b[1;32m   3653\u001b[0m             \u001b[0;32mreturn\u001b[0m \u001b[0mself\u001b[0m\u001b[0;34m.\u001b[0m\u001b[0m_engine\u001b[0m\u001b[0;34m.\u001b[0m\u001b[0mget_loc\u001b[0m\u001b[0;34m(\u001b[0m\u001b[0mcasted_key\u001b[0m\u001b[0;34m)\u001b[0m\u001b[0;34m\u001b[0m\u001b[0;34m\u001b[0m\u001b[0m\n\u001b[1;32m   3654\u001b[0m         \u001b[0;32mexcept\u001b[0m \u001b[0mKeyError\u001b[0m \u001b[0;32mas\u001b[0m \u001b[0merr\u001b[0m\u001b[0;34m:\u001b[0m\u001b[0;34m\u001b[0m\u001b[0;34m\u001b[0m\u001b[0m\n\u001b[0;32m-> 3655\u001b[0;31m             \u001b[0;32mraise\u001b[0m \u001b[0mKeyError\u001b[0m\u001b[0;34m(\u001b[0m\u001b[0mkey\u001b[0m\u001b[0;34m)\u001b[0m \u001b[0;32mfrom\u001b[0m \u001b[0merr\u001b[0m\u001b[0;34m\u001b[0m\u001b[0;34m\u001b[0m\u001b[0m\n\u001b[0m\u001b[1;32m   3656\u001b[0m         \u001b[0;32mexcept\u001b[0m \u001b[0mTypeError\u001b[0m\u001b[0;34m:\u001b[0m\u001b[0;34m\u001b[0m\u001b[0;34m\u001b[0m\u001b[0m\n\u001b[1;32m   3657\u001b[0m             \u001b[0;31m# If we have a listlike key, _check_indexing_error will raise\u001b[0m\u001b[0;34m\u001b[0m\u001b[0;34m\u001b[0m\u001b[0m\n",
            "\u001b[0;31mKeyError\u001b[0m: 742"
          ]
        }
      ],
      "source": [
        "from keras.models import Sequential\n",
        "from keras.layers import LSTM, Dropout, Dense\n",
        "\n",
        "\n",
        "def LSTM_model(X_train, p_dropout=0.2):\n",
        "  model =Sequential()\n",
        "  model.add(\n",
        "      LSTM(units=50,\n",
        "           return_sequences=True,\n",
        "           input_shape =(X_train.shape[1],5))\n",
        "  )\n",
        "  model.add(Dropout(p_dropout))\n",
        "  model.add(LSTM(units=50,\n",
        "           return_sequences=True))\n",
        "  model.add(Dropout(p_dropout))\n",
        "\n",
        "  model.add(Dense(units=1))\n",
        "  return model\n",
        "\n",
        "\n",
        "ibm_df['RSI']=ta.rsi(ibm_df.Close, length=10)\n",
        "ibm_df['EMAF']=ta.ema(ibm_df.Close, length=20)\n",
        "ibm_df['EMAM']=ta.ema(ibm_df.Close, length=100)\n",
        "ibm_df['EMAS']=ta.ema(ibm_df.Close, length=150)\n",
        "ibm_df['log return'] = np.log(ibm_df['Close'].shift(-1)/ibm_df['Close'])\n",
        "\n",
        "ibm_df.dropna(inplace=True)\n",
        "splitlimit = int(len(ibm_df) * 0.8)\n",
        "ibm_df_train_set = ibm_df.loc[:ibm_df.index[0]+splitlimit,:] ####iloc\n",
        "\n",
        "\n",
        "X_train=[]\n",
        "y_train =[]\n",
        "df_days=ibm_df_train_set.shape[0]\n",
        "\n",
        "for x in range(ibm_df_train_set.index[0]+5,ibm_df_train_set.index[0]+ibm_df_train_set.shape[0]): #prendo intanto una finestra di 5 settimane\n",
        "  X_train.append(ibm_df.loc[x-5:x-1,['log return','RSI','EMAF','EMAM','EMAS']].values)\n",
        "  y_train.append(ibm_df.loc[x,'log return'])\n",
        "\n",
        "X_train,y_train = np.array(X_train), np.array(y_train)\n",
        "\n",
        "\n",
        "\n",
        "X_test=[]\n",
        "y_test =[]\n",
        "\n",
        "for x in range(df_days, ibm_df.shape[0]): #prendo intanto una finestra di 10 settimane\n",
        "  X_test.append(ibm_df.loc[x-10:x-1,['log return','RSI','EMAF','EMAM','EMAS']].values)\n",
        "  y_test.append(ibm_df.loc[x,'log return'])\n",
        "\n",
        "X_test,y_test = np.array(X_test), np.array(y_test) #non serve convertirlo ancora y_test è già pronto\n",
        "\n",
        "\n",
        "#definition\n",
        "model=LSTM_model(X_train)\n",
        "model.build()\n",
        "display(model.summary())\n",
        "model.compile(optimizer='adam',\n",
        "              loss='mean_squared_error')\n",
        "\n",
        "\n",
        "\n",
        "\n",
        "#training\n",
        "history = model.fit(X_train, y_train,epochs=30, batch_size=10,validation_data=(X_test,y_test))\n",
        "y_pred = model.predict(X_test)\n",
        "\n",
        "# Plot the predicted values\n",
        "plt.plot(y_test, label='True Values')\n",
        "plt.plot(y_pred[:,0],  label='Predicted Values')\n",
        "\n",
        "plt.title('True vs Predicted Values')\n",
        "plt.xlabel('Index')\n",
        "plt.ylabel('log return close')\n",
        "plt.legend()\n",
        "plt.show()\n",
        "\n",
        "# Extract the MSE values from the history object\n",
        "mse_values = history.history['loss']\n",
        "validation_values = history.history['val_loss']\n",
        "\n",
        "# Plot the trend of MSE with respect to epochs\n",
        "plt.plot(range(1, len(mse_values) + 1), mse_values, label='MSE')\n",
        "plt.plot(range(1, len(validation_values) + 1), validation_values, label='Validation Test')\n",
        "plt.title('Mean Squared Error (MSE) Trend')\n",
        "plt.xlabel('Epochs')\n",
        "plt.ylabel('MSE')\n",
        "plt.legend()\n",
        "plt.show()"
      ]
    },
    {
      "cell_type": "markdown",
      "metadata": {
        "id": "tJBxrwRFXXfw"
      },
      "source": [
        "## mistero overfit"
      ]
    },
    {
      "cell_type": "code",
      "execution_count": null,
      "metadata": {
        "id": "XzPy39X7wr_S"
      },
      "outputs": [],
      "source": [
        "ibm_df['RSI']=ta.rsi(ibm_df.Close, length=10)\n",
        "ibm_df['EMAF']=ta.ema(ibm_df.Close, length=20)\n",
        "ibm_df['EMAM']=ta.ema(ibm_df.Close, length=100)\n",
        "ibm_df['EMAS']=ta.ema(ibm_df.Close, length=150)\n",
        "\n",
        "ibm_df_set = ibm_df.loc[:, ['Date','Volume','Close','RSI', 'EMAF', 'EMAM','EMAS']].dropna()\n",
        "\n",
        "splitlimit = int(len(ibm_df_set) * 0.8)\n",
        "ibm_df_train_set = ibm_df_set.loc[:splitlimit,:] ####iloc\n",
        "ibm_df_test_set = ibm_df_set.loc[splitlimit:,:]\n",
        "#ibm_df_train_set.set_index('Date')\n",
        "#ibm_df_test_set.set_index('Date')\n",
        "\n",
        "X_train = ibm_df_train_set[['Volume','RSI', 'EMAF', 'EMAM','EMAS']]\n",
        "#y_train = ibm_df_train_set[['Close']]\n",
        "X_test = ibm_df_test_set[['Volume','RSI', 'EMAF', 'EMAM','EMAS']]\n",
        "#y_test = ibm_df_test_set[['Close']]\n",
        "\n",
        "X_train = np.array(X_train) #Torre: X_train.values lo converte\n",
        "\n",
        "X_test = np.array(X_test)\n",
        "\n",
        "X_train = np.reshape(X_train, (X_train.shape[0],1, X_train.shape[1])) #X_train è una matrice. Verificare che i valori siano messi al posto giusto\n",
        "X_test = np.reshape(X_test,(X_test.shape[0],1,X_test.shape[1]))\n",
        "\n",
        "X_train = np.repeat(X_train, repeats=30, axis=1)\n",
        "y_train = np.array(ibm_df_train_set[['Close']])\n",
        "\n",
        "X_test = np.repeat(X_test, repeats=30, axis=1)\n",
        "y_test = np.array(ibm_df_test_set[['Close']])\n",
        "\n",
        "model = keras.Sequential()\n",
        "model.add(keras.layers.LSTM(units = 50, input_shape=(X_train.shape[1], X_train.shape[2])))\n",
        "model.add(keras.layers.Dropout(0.2))\n",
        "\n",
        "model.add(keras.layers.Dense(units=1))\n",
        "model.compile(optimizer ='adam', loss='mse')\n",
        "\n",
        "\n",
        "history = model.fit(x=X_train, y=y_train, batch_size=10, epochs=10, validation_data= (X_test,y_test))\n",
        "y_pred = model.predict(X_test)\n",
        "\n",
        "\n",
        "\n",
        "# Plot the predicted values\n",
        "plt.plot(y_test, label='True Values')\n",
        "plt.plot(np.reshape(y_pred, y_pred.shape[0]),  label='Predicted Values')\n",
        "\n",
        "plt.title('True vs Predicted Values')\n",
        "plt.xlabel('Index')\n",
        "plt.ylabel('Close Price')\n",
        "plt.legend()\n",
        "plt.show()\n",
        "\n",
        "# Extract the MSE values from the history object\n",
        "mse_values = history.history['loss']\n",
        "\n",
        "# Plot the trend of MSE with respect to epochs\n",
        "plt.plot(range(1, len(mse_values) + 1), mse_values, label='MSE')\n",
        "plt.title('Mean Squared Error (MSE) Trend')\n",
        "plt.xlabel('Epochs')\n",
        "plt.ylabel('MSE')\n",
        "plt.legend()\n",
        "plt.show()"
      ]
    },
    {
      "cell_type": "code",
      "execution_count": null,
      "metadata": {
        "id": "JLX3QiYJTlwT"
      },
      "outputs": [],
      "source": []
    }
  ],
  "metadata": {
    "colab": {
      "collapsed_sections": [
        "hyUA5SiFYf68",
        "dzRhqA3hKP_g",
        "uBkSsnDkO8Np",
        "ngKQiJI1XZ0A",
        "T-fVcU8CZfuo",
        "tJBxrwRFXXfw"
      ],
      "provenance": []
    },
    "kernelspec": {
      "display_name": "Python 3",
      "name": "python3"
    },
    "language_info": {
      "name": "python"
    }
  },
  "nbformat": 4,
  "nbformat_minor": 0
}